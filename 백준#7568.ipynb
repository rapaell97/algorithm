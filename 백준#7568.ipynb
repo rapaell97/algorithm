{
 "cells": [
  {
   "cell_type": "code",
   "execution_count": 8,
   "metadata": {},
   "outputs": [
    {
     "name": "stdout",
     "output_type": "stream",
     "text": [
      "22125"
     ]
    }
   ],
   "source": [
    "test = int(input())\n",
    "info_list=list()\n",
    "\n",
    "for i in range(test):\n",
    "    w,h=list(map(int,input().split()))\n",
    "    info_list.append((w,h))\n",
    "\n",
    "for k in info_list:\n",
    "    cnt=1\n",
    "    for j in info_list:\n",
    "        if k[0]<j[0] and k[1]<j[1]:\n",
    "            cnt+=1\n",
    "    print(cnt,end=' ')\n",
    "\n",
    "\n",
    "\n",
    "\n",
    "\n"
   ]
  },
  {
   "cell_type": "code",
   "execution_count": 4,
   "metadata": {},
   "outputs": [
    {
     "data": {
      "text/plain": [
       "[[55, 185], [58, 183], [88, 186], [60, 175], [46, 155]]"
      ]
     },
     "execution_count": 4,
     "metadata": {},
     "output_type": "execute_result"
    }
   ],
   "source": []
  },
  {
   "cell_type": "code",
   "execution_count": null,
   "metadata": {},
   "outputs": [],
   "source": []
  }
 ],
 "metadata": {
  "kernelspec": {
   "display_name": "Python 3",
   "language": "python",
   "name": "python3"
  },
  "language_info": {
   "codemirror_mode": {
    "name": "ipython",
    "version": 3
   },
   "file_extension": ".py",
   "mimetype": "text/x-python",
   "name": "python",
   "nbconvert_exporter": "python",
   "pygments_lexer": "ipython3",
   "version": "3.9.2"
  }
 },
 "nbformat": 4,
 "nbformat_minor": 2
}
