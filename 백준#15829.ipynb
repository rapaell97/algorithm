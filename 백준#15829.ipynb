{
 "cells": [
  {
   "cell_type": "code",
   "execution_count": 61,
   "metadata": {},
   "outputs": [
    {
     "name": "stdout",
     "output_type": "stream",
     "text": [
      "4739715\n"
     ]
    }
   ],
   "source": [
    "import string\n",
    "\n",
    "alpha_list = [i for i in string.ascii_lowercase]\n",
    "alpha_dict = {alpha:num+1 for num,alpha in enumerate(alpha_list)}\n",
    "\n",
    "test=int(input())\n",
    "word=input()\n",
    "k=0\n",
    "\n",
    "for m,n in enumerate(word):\n",
    "    k+=alpha_dict[n]*(31**m)\n",
    "\n",
    "print(k % 1234567891)\n",
    "\n"
   ]
  },
  {
   "cell_type": "code",
   "execution_count": null,
   "metadata": {},
   "outputs": [],
   "source": []
  }
 ],
 "metadata": {
  "kernelspec": {
   "display_name": "Python 3",
   "language": "python",
   "name": "python3"
  },
  "language_info": {
   "codemirror_mode": {
    "name": "ipython",
    "version": 3
   },
   "file_extension": ".py",
   "mimetype": "text/x-python",
   "name": "python",
   "nbconvert_exporter": "python",
   "pygments_lexer": "ipython3",
   "version": "3.9.2"
  }
 },
 "nbformat": 4,
 "nbformat_minor": 2
}
