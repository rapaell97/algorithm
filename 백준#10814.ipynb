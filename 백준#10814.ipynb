{
 "cells": [
  {
   "cell_type": "code",
   "execution_count": 13,
   "metadata": {},
   "outputs": [
    {
     "name": "stdout",
     "output_type": "stream",
     "text": [
      "20 su\n",
      "21 junku\n",
      "21 do\n"
     ]
    }
   ],
   "source": [
    "test=int(input())\n",
    "info_list=list()\n",
    "\n",
    "for i in range(test):\n",
    "    age,name = input().split()\n",
    "    info_list.append([int(age),name])\n",
    "\n",
    "info_list.sort(key = lambda x : x[0])\n",
    "\n",
    "for k in info_list:\n",
    "    print(k[0],k[1])\n"
   ]
  },
  {
   "cell_type": "code",
   "execution_count": null,
   "metadata": {},
   "outputs": [],
   "source": []
  }
 ],
 "metadata": {
  "kernelspec": {
   "display_name": "Python 3",
   "language": "python",
   "name": "python3"
  },
  "language_info": {
   "codemirror_mode": {
    "name": "ipython",
    "version": 3
   },
   "file_extension": ".py",
   "mimetype": "text/x-python",
   "name": "python",
   "nbconvert_exporter": "python",
   "pygments_lexer": "ipython3",
   "version": "3.9.13"
  }
 },
 "nbformat": 4,
 "nbformat_minor": 2
}
