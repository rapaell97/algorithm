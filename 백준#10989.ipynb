{
 "cells": [
  {
   "cell_type": "code",
   "execution_count": 1,
   "metadata": {},
   "outputs": [],
   "source": [
    "import sys\n",
    "test=int(sys.stdin.readline())\n",
    "num_list=[0]*10000\n",
    "\n",
    "for i in range(test):\n",
    "    num=int(sys.stdin.readline())\n",
    "    num_list[num-1]+=1\n",
    "\n",
    "for k in range(10000):\n",
    "    if num_list[k] != 0:\n",
    "        for j in range(num_list[k]):\n",
    "            print(k+1)\n"
   ]
  }
 ],
 "metadata": {
  "kernelspec": {
   "display_name": "Python 3",
   "language": "python",
   "name": "python3"
  },
  "language_info": {
   "codemirror_mode": {
    "name": "ipython",
    "version": 3
   },
   "file_extension": ".py",
   "mimetype": "text/x-python",
   "name": "python",
   "nbconvert_exporter": "python",
   "pygments_lexer": "ipython3",
   "version": "3.9.13"
  }
 },
 "nbformat": 4,
 "nbformat_minor": 2
}
