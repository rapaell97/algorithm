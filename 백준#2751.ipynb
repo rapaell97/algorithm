{
 "cells": [
  {
   "cell_type": "code",
   "execution_count": 16,
   "metadata": {},
   "outputs": [],
   "source": [
    "import sys\n",
    "test=int(sys.stdin.readline())\n",
    "num_list=[int(input()) for i in range(test)]\n",
    "sort_list=[0]*1000000\n",
    "\n",
    "for k in num_list:\n",
    "    sort_list[k]=k\n",
    "\n",
    "for j in sort_list:\n",
    "    if j != 0:\n",
    "        print(j)\n",
    "    else:\n",
    "        continue\n",
    "\n",
    "\n"
   ]
  }
 ],
 "metadata": {
  "kernelspec": {
   "display_name": "Python 3",
   "language": "python",
   "name": "python3"
  },
  "language_info": {
   "codemirror_mode": {
    "name": "ipython",
    "version": 3
   },
   "file_extension": ".py",
   "mimetype": "text/x-python",
   "name": "python",
   "nbconvert_exporter": "python",
   "pygments_lexer": "ipython3",
   "version": "3.9.13"
  }
 },
 "nbformat": 4,
 "nbformat_minor": 2
}
