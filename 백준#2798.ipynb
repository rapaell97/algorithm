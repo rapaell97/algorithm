{
 "cells": [
  {
   "cell_type": "code",
   "execution_count": 17,
   "metadata": {},
   "outputs": [
    {
     "name": "stdout",
     "output_type": "stream",
     "text": [
      "497\n"
     ]
    }
   ],
   "source": [
    "n,m=list(map(int,input().split()))\n",
    "\n",
    "card_list=list(map(int,input().split()))\n",
    "\n",
    "max_sum=0\n",
    "\n",
    "for i in range(n-2):\n",
    "    for k in range(i+1,n-1):\n",
    "        for j in range(k+1,n):\n",
    "            card_sum=card_list[i]+card_list[j]+card_list[k]\n",
    "            if card_sum<=m:\n",
    "                max_sum=max(card_sum,max_sum)\n",
    "\n",
    "print(max_sum)"
   ]
  }
 ],
 "metadata": {
  "kernelspec": {
   "display_name": "Python 3",
   "language": "python",
   "name": "python3"
  },
  "language_info": {
   "codemirror_mode": {
    "name": "ipython",
    "version": 3
   },
   "file_extension": ".py",
   "mimetype": "text/x-python",
   "name": "python",
   "nbconvert_exporter": "python",
   "pygments_lexer": "ipython3",
   "version": "3.9.2"
  }
 },
 "nbformat": 4,
 "nbformat_minor": 2
}
